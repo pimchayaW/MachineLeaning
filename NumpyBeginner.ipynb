{
  "nbformat": 4,
  "nbformat_minor": 0,
  "metadata": {
    "colab": {
      "provenance": [],
      "toc_visible": true,
      "authorship_tag": "ABX9TyMEWxxstBHeyb93i7QrrxQE",
      "include_colab_link": true
    },
    "kernelspec": {
      "name": "python3",
      "display_name": "Python 3"
    },
    "language_info": {
      "name": "python"
    }
  },
  "cells": [
    {
      "cell_type": "markdown",
      "metadata": {
        "id": "view-in-github",
        "colab_type": "text"
      },
      "source": [
        "<a href=\"https://colab.research.google.com/github/pimchayaW/MachineLeaning/blob/main/NumpyBeginner.ipynb\" target=\"_parent\"><img src=\"https://colab.research.google.com/assets/colab-badge.svg\" alt=\"Open In Colab\"/></a>"
      ]
    },
    {
      "cell_type": "code",
      "source": [
        "import numpy as np"
      ],
      "metadata": {
        "id": "7NrFIh9MHhz7"
      },
      "execution_count": 2,
      "outputs": []
    },
    {
      "cell_type": "code",
      "execution_count": 4,
      "metadata": {
        "colab": {
          "base_uri": "https://localhost:8080/"
        },
        "id": "JSPx3agrHaUz",
        "outputId": "f0bf132f-e491-4b44-d159-91bca5982d6f"
      },
      "outputs": [
        {
          "output_type": "stream",
          "name": "stdout",
          "text": [
            "[2.   0.09 2.14 9.18 2.02 2.3  3.2  8.2 ]\n"
          ]
        }
      ],
      "source": [
        "d1_array = np.array([2.0,0.09,2.14,9.18,2.02,2.3,3.2,8.2])\n",
        "print(d1_array)"
      ]
    },
    {
      "cell_type": "code",
      "source": [
        "d2_array = np.array([[7,4],[2,5],[8,9]])\n",
        "print(d2_array)\n",
        "print(np.zeros)\n",
        "print(np.ones)"
      ],
      "metadata": {
        "colab": {
          "base_uri": "https://localhost:8080/"
        },
        "id": "iCmCFwNrJnNJ",
        "outputId": "6197221f-9ea1-4209-e34b-b7a9f004d484"
      },
      "execution_count": 11,
      "outputs": [
        {
          "output_type": "stream",
          "name": "stdout",
          "text": [
            "[[7 4]\n",
            " [2 5]\n",
            " [8 9]]\n",
            "<built-in function zeros>\n",
            "<function ones at 0x7b01f96f6710>\n"
          ]
        }
      ]
    },
    {
      "cell_type": "code",
      "source": [
        "sequence_int = np.arange(9,18)\n",
        "print(sequence_int)"
      ],
      "metadata": {
        "colab": {
          "base_uri": "https://localhost:8080/"
        },
        "id": "Cvy6FXv3K0HG",
        "outputId": "e8072b68-0bdd-463e-89a6-9f13a6d08dad"
      },
      "execution_count": 13,
      "outputs": [
        {
          "output_type": "stream",
          "name": "stdout",
          "text": [
            "[ 9 10 11 12 13 14 15 16 17]\n"
          ]
        }
      ]
    },
    {
      "cell_type": "code",
      "source": [],
      "metadata": {
        "id": "iNwBLNB4WmuD"
      },
      "execution_count": null,
      "outputs": []
    },
    {
      "cell_type": "code",
      "source": [
        "for n in range(1,6):\n",
        "  random_int = np.random.randint(low=2,high=25,size=6)\n",
        "  print(f\"{n} : {random_int}\")"
      ],
      "metadata": {
        "colab": {
          "base_uri": "https://localhost:8080/"
        },
        "id": "CYmlPBNcLRjW",
        "outputId": "70fc8e32-1dfb-40d2-ba7b-76ef25763509"
      },
      "execution_count": 16,
      "outputs": [
        {
          "output_type": "stream",
          "name": "stdout",
          "text": [
            "1 : [14 20 15  3 20 14]\n",
            "2 : [22 11 20 19 15 13]\n",
            "3 : [10 15 23 24 16 19]\n",
            "4 : [16 19  5  7 13 22]\n",
            "5 : [24 21  4 10 22 18]\n"
          ]
        }
      ]
    },
    {
      "cell_type": "code",
      "source": [
        "i = 0\n",
        "while i<5:\n",
        "  random_float = np.random.random(6) + i\n",
        "  print(f\"{i}:{random_float}\")\n",
        "  i=i+1"
      ],
      "metadata": {
        "colab": {
          "base_uri": "https://localhost:8080/"
        },
        "id": "JMFqZjIeOvXe",
        "outputId": "326bbf0e-8ce0-467a-aa5b-c0bd1909fa60"
      },
      "execution_count": 18,
      "outputs": [
        {
          "output_type": "stream",
          "name": "stdout",
          "text": [
            "0:[0.46166917 0.1239597  0.55433746 0.26169176 0.83289586 0.38819402]\n",
            "1:[1.68630519 1.41631626 1.26184597 1.88878622 1.8377345  1.50009332]\n",
            "2:[2.50896021 2.56735755 2.11585127 2.77956506 2.66245669 2.06735139]\n",
            "3:[3.20715535 3.66167613 3.72952799 3.62885938 3.94622792 3.00090189]\n",
            "4:[4.37571642 4.83146568 4.76406387 4.08790374 4.59823583 4.2790021 ]\n"
          ]
        }
      ]
    },
    {
      "cell_type": "code",
      "source": [
        "#create a linear dataset\n",
        "feature = np.arange(6,21)\n",
        "print(feature)\n",
        "label = [(f*3)+4 for f in feature]\n",
        "print(label)\n",
        "#Add some noise to the dataset\n",
        "n = 15\n",
        "max, min = 2, -2\n",
        "range_size = (max - min)\n",
        "noise = np.random.rand(n) * range_size + min\n",
        "print(noise)\n",
        "i = 0\n",
        "for i in range(len(label)):\n",
        "  label[i] = label[i]+noise[i]\n",
        "print(label)"
      ],
      "metadata": {
        "colab": {
          "base_uri": "https://localhost:8080/"
        },
        "id": "BlJe3F8wRLnl",
        "outputId": "1805e61e-23a1-4602-c6da-37187713126d"
      },
      "execution_count": 27,
      "outputs": [
        {
          "output_type": "stream",
          "name": "stdout",
          "text": [
            "[ 6  7  8  9 10 11 12 13 14 15 16 17 18 19 20]\n",
            "[22, 25, 28, 31, 34, 37, 40, 43, 46, 49, 52, 55, 58, 61, 64]\n",
            "[ 1.17771454  1.0188427  -0.89383651  1.50312391 -1.60618678 -1.31619052\n",
            "  1.11600117  1.53513217  0.6831485   1.78030395  1.71993474  0.44551607\n",
            "  0.19191212 -1.60598382  1.14726444]\n",
            "[23.177714541327312, 26.01884269560906, 27.106163485301018, 32.503123911668844, 32.39381322375739, 35.68380948091345, 41.11600116657466, 44.53513216810738, 46.68314849616492, 50.78030394502232, 53.71993474392215, 55.44551607051935, 58.19191211619212, 59.39401618418098, 65.14726443976244]\n"
          ]
        }
      ]
    },
    {
      "cell_type": "code",
      "source": [],
      "metadata": {
        "colab": {
          "base_uri": "https://localhost:8080/"
        },
        "id": "XzmrXnutSOLG",
        "outputId": "6033e20c-bbcf-42ea-a5da-eafed1f6bf18"
      },
      "execution_count": 26,
      "outputs": [
        {
          "output_type": "stream",
          "name": "stdout",
          "text": [
            "[-0.17250373 -0.83955247  1.6966925   0.28758252  0.48422556 -1.93259559\n",
            " -1.07804319  1.8156854   1.1217744   1.45434764 -1.287974    0.59398608\n",
            "  1.56140366  1.44501767  1.34863224]\n",
            "[62.21068670022635, 24.16044753134692, 29.696692496821036, 31.287582515268785, 34.48422555901841, 35.067404408060185, 38.92195680896842, 44.81568539513339, 47.12177440080894, 50.454347641389674, 50.712025997189855, 55.59398608328582, 59.561403658115665, 62.44501767113917, 65.34863224273845]\n"
          ]
        }
      ]
    }
  ]
}